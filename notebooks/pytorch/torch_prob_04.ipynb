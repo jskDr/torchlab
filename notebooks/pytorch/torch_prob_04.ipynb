{
 "cells": [
  {
   "cell_type": "markdown",
   "metadata": {},
   "source": [
    "## 문제 1: 기본적인 선형 회귀 모델\n",
    "문제: PyTorch를 이용하여 간단한 선형 회귀 모델을 구축하고, 임의의 데이터셋을 사용하여 모델을 학습시켜 보세요. 데이터셋은 1차원 입력과 1차원 출력을 가지도록 생성합니다.\n",
    "\n",
    "힌트:\n",
    "- torch를 사용하여 데이터 생성\n",
    "- torch.nn.Linear 모듈을 사용하여 선형 모델 정의\n",
    "- 손실 함수로 torch.nn.MSELoss 사용\n",
    "- 옵티마이저로 torch.optim.SGD 사용"
   ]
  },
  {
   "cell_type": "code",
   "execution_count": 1,
   "metadata": {},
   "outputs": [
    {
     "name": "stdout",
     "output_type": "stream",
     "text": [
      "torch.Size([100, 2]) torch.Size([100, 1]) torch.Size([10, 2]) torch.Size([10, 1])\n"
     ]
    },
    {
     "data": {
      "image/png": "[encoded data removed]",
      "text/plain": [
       "<Figure size 640x480 with 1 Axes>"
      ]
     },
     "metadata": {},
     "output_type": "display_data"
    },
    {
     "name": "stdout",
     "output_type": "stream",
     "text": [
      "Done...\n"
     ]
    }
   ],
   "source": [
    "import torch\n",
    "from torch import nn \n",
    "import matplotlib.pyplot as plt\n",
    "\n",
    "# Define model\n",
    "class MyModel(nn.Module):\n",
    "    def __init__(self, D):\n",
    "        super().__init__()\n",
    "        self.fc = nn.Linear(D, 1)\n",
    "        \n",
    "    def forward(self, x):\n",
    "        # x: torch.Size([N1, D])\n",
    "        return self.fc(x)\n",
    "\n",
    "# Load data\n",
    "N1, N2, D = 100, 10, 2\n",
    "fx = lambda x: (2*x + 1).sum(dim=1).view(-1,1)\n",
    "X1 = torch.rand(N1, D)\n",
    "y1 = fx(X1)\n",
    "X2 = torch.rand(N2, D)\n",
    "y2 = fx(X2)\n",
    "print(X1.shape, y1.shape, X2.shape, y2.shape)\n",
    "\n",
    "model = MyModel(D)\n",
    "optimizer = torch.optim.SGD(model.parameters(), lr=0.001)\n",
    "loss_fn = nn.MSELoss()\n",
    "epochs = 1000\n",
    "mse1_l = []\n",
    "mse2_l = []\n",
    "for _ in range(epochs):\n",
    "    yp1 = model(X1) \n",
    "    mse = loss_fn(yp1, y1)\n",
    "    mse1_l.append(mse)\n",
    "    mse.backward()\n",
    "    optimizer.step()\n",
    "    optimizer.zero_grad()\n",
    "    \n",
    "    with torch.no_grad():\n",
    "        yp2 = model(X2)\n",
    "        mse = loss_fn(yp2, y2)\n",
    "        mse2_l.append(mse)\n",
    "    \n",
    "#print(mse_l)\n",
    "mse1_l = [x.item() for x in mse1_l]\n",
    "mse2_l = [x.item() for x in mse2_l]\n",
    "plt.plot(mse1_l, label=\"Train Loss\")\n",
    "plt.plot(mse2_l, label=\"Test Loss\")\n",
    "plt.legend()\n",
    "plt.show()\n",
    "\n",
    "print(\"Done...\")"
   ]
  },
  {
   "cell_type": "markdown",
   "metadata": {},
   "source": [
    "## 문제 2: 단일 히든 계층을 가진 신경망\n",
    "이제 히든 계층을 추가하여 모델을 확장해 봅시다.\n",
    "\n",
    "### 문제 \n",
    "단일 히든 계층을 가진 신경망을 구축하고, 이전과 같은 데이터셋을 사용하여 모델을 학습시켜 보세요. 히든 계층의 뉴런 수는 10개로 설정합니다.\n",
    "\n",
    "### 힌트\n",
    "- torch.nn.Sequential을 사용하여 모델 정의\n",
    "- 활성화 함수로 torch.nn.ReLU 사용"
   ]
  },
  {
   "cell_type": "code",
   "execution_count": 2,
   "metadata": {},
   "outputs": [],
   "source": [
    "import torch\n",
    "from torch import nn\n",
    "import matplotlib.pyplot as plt\n"
   ]
  },
  {
   "cell_type": "code",
   "execution_count": 8,
   "metadata": {},
   "outputs": [
    {
     "name": "stdout",
     "output_type": "stream",
     "text": [
      "Weights^T:  tensor([[0.3005, 0.8900, 0.7529, 0.9051, 0.2213, 0.3654, 0.8815, 0.3982, 0.7090,\n",
      "         0.3290, 0.1953, 0.3380, 0.7418, 0.6196, 0.4765, 0.1214, 0.3327, 0.5573,\n",
      "         0.3443, 0.7532]])\n",
      "Bias:  tensor([[0.0298]])\n",
      "torch.Size([1000, 20]) torch.Size([200, 20]) torch.Size([1000, 1]) torch.Size([200, 1])\n"
     ]
    }
   ],
   "source": [
    "N1, N2, D = 1000, 200, 20\n",
    "\n",
    "wo = torch.rand(D,1)\n",
    "bo = torch.rand(1,1)\n",
    "print(\"Weights^T: \", wo.T)\n",
    "print(\"Bias: \", bo)\n",
    "\n",
    "X1 = torch.rand(N1, D)\n",
    "X2 = torch.rand(N2, D)\n",
    "y1 = torch.matmul(X1, wo) + bo\n",
    "y2 = torch.matmul(X2, wo) + bo\n",
    "print(X1.shape, X2.shape, y1.shape, y2.shape)"
   ]
  },
  {
   "cell_type": "code",
   "execution_count": 9,
   "metadata": {},
   "outputs": [],
   "source": [
    "class MyModel(nn.Module):\n",
    "    def __init__(self, D, H=10):\n",
    "        super().__init__()\n",
    "        self.net = nn.Sequential(\n",
    "            nn.Linear(D, H),\n",
    "            nn.ReLU(),\n",
    "            nn.Linear(H,1)\n",
    "        )\n",
    "    def forward(self, x):\n",
    "        return self.net(x)"
   ]
  },
  {
   "cell_type": "code",
   "execution_count": null,
   "metadata": {},
   "outputs": [],
   "source": []
  }
 ],
 "metadata": {
  "kernelspec": {
   "display_name": "torchlab-oipwkQ0z-py3.10",
   "language": "python",
   "name": "python3"
  },
  "language_info": {
   "codemirror_mode": {
    "name": "ipython",
    "version": 3
   },
   "file_extension": ".py",
   "mimetype": "text/x-python",
   "name": "python",
   "nbconvert_exporter": "python",
   "pygments_lexer": "ipython3",
   "version": "3.10.12"
  }
 },
 "nbformat": 4,
 "nbformat_minor": 2
}
