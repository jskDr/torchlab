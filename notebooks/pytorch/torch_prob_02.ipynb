{
 "cells": [
  {
   "cell_type": "code",
   "execution_count": 23,
   "metadata": {},
   "outputs": [],
   "source": [
    "import torch\n",
    "from lib import apply_markdown_format as amd"
   ]
  },
  {
   "cell_type": "markdown",
   "metadata": {},
   "source": [
    "## 문제 17: 텐서의 역전파(Backpropagation) 준비하기\n",
    "다음 텐서 x에 대해 역전파를 수행할 수 있도록 준비하는 코드를 작성하세요:\n",
    "```python\n",
    "x = torch.tensor([1.0, 2.0, 3.0])\n",
    "```"
   ]
  },
  {
   "cell_type": "code",
   "execution_count": 5,
   "metadata": {},
   "outputs": [
    {
     "name": "stdout",
     "output_type": "stream",
     "text": [
      "tensor([1., 2., 3.], requires_grad=True)\n"
     ]
    }
   ],
   "source": [
    "x = torch.tensor([1.0, 2.0, 3.0], requires_grad=True)\n",
    "print(x)"
   ]
  },
  {
   "cell_type": "code",
   "execution_count": 8,
   "metadata": {},
   "outputs": [
    {
     "name": "stdout",
     "output_type": "stream",
     "text": [
      "tensor([1., 2., 3.], requires_grad=True) tensor([ 5., 10., 15.], grad_fn=<MulBackward0>) tensor(30., grad_fn=<SumBackward0>)\n",
      "tensor([5., 5., 5.])\n"
     ]
    }
   ],
   "source": [
    "# 역전파 사용 예시1\n",
    "x = torch.tensor([1.0, 2.0, 3.0], requires_grad=True)\n",
    "y = x * 5 # y = [2x_1, 2x_2, 3x_3]\n",
    "z = y.sum() # z = 2x_1 + 2x_2 + 3x_3\n",
    "print(x, y, z)\n",
    "z.backward() # derivation by backprop\n",
    "\n",
    "print(x.grad)"
   ]
  },
  {
   "cell_type": "code",
   "execution_count": 11,
   "metadata": {},
   "outputs": [
    {
     "name": "stdout",
     "output_type": "stream",
     "text": [
      "tensor([1., 2., 3.], requires_grad=True) tensor([ 9., 18., 27.], grad_fn=<MulBackward0>) tensor(18., grad_fn=<MeanBackward0>)\n",
      "tensor([3., 3., 3.])\n"
     ]
    }
   ],
   "source": [
    "# 역전파 사용 예시1\n",
    "x = torch.tensor([1.0, 2.0, 3.0], requires_grad=True)\n",
    "y = x * 9 # y = [2x_1, 2x_2, 3x_3]\n",
    "z = y.mean() # z = 2x_1 + 2x_2 + 3x_3\n",
    "print(x, y, z)\n",
    "z.backward() # derivation by backprop\n",
    "\n",
    "print(x.grad)"
   ]
  },
  {
   "cell_type": "markdown",
   "metadata": {},
   "source": [
    "## 문제 18: 텐서의 특정 차원 기준으로 합계 계산\n",
    "다음 텐서 x에서 각 열(column)의 합계를 계산하는 코드를 작성하세요:\n",
    "```python\n",
    "x = torch.tensor([[1, 2, 3], [4, 5, 6]])\n",
    "```"
   ]
  },
  {
   "cell_type": "code",
   "execution_count": 14,
   "metadata": {},
   "outputs": [
    {
     "data": {
      "text/plain": [
       "tensor([5, 7, 9])"
      ]
     },
     "execution_count": 14,
     "metadata": {},
     "output_type": "execute_result"
    }
   ],
   "source": [
    "x = torch.tensor([[1, 2, 3], [4, 5, 6]])\n",
    "x.sum(dim=0) "
   ]
  },
  {
   "cell_type": "markdown",
   "metadata": {},
   "source": [
    "## 문제 19: 텐서의 요소별 제곱근 계산\n",
    "다음 텐서 x의 각 요소의 제곱근을 계산하는 코드를 작성하세요:\n",
    "```python\n",
    "x = torch.tensor([4.0, 9.0, 16.0])\n",
    "```"
   ]
  },
  {
   "cell_type": "code",
   "execution_count": 17,
   "metadata": {},
   "outputs": [
    {
     "data": {
      "text/plain": [
       "tensor([2., 3., 4.])"
      ]
     },
     "execution_count": 17,
     "metadata": {},
     "output_type": "execute_result"
    }
   ],
   "source": [
    "x = torch.tensor([4.0, 9.0, 16.0])\n",
    "torch.sqrt(x)"
   ]
  },
  {
   "cell_type": "markdown",
   "metadata": {},
   "source": [
    "## 문제 20: 텐서의 특정 값 인덱스 찾기\n",
    "다음 텐서 x에서 값이 5인 첫 번째 위치의 인덱스를 찾는 코드를 작성하세요:\n",
    "\n",
    "```python\n",
    "x = torch.tensor([3, 5, 7, 5, 9])\n",
    "```"
   ]
  },
  {
   "cell_type": "code",
   "execution_count": 35,
   "metadata": {},
   "outputs": [
    {
     "data": {
      "text/plain": [
       "1"
      ]
     },
     "execution_count": 35,
     "metadata": {},
     "output_type": "execute_result"
    }
   ],
   "source": [
    "x = torch.tensor([3, 5, 7, 5, 9])\n",
    "torch.argwhere(x==5)[0].item()"
   ]
  },
  {
   "cell_type": "code",
   "execution_count": 41,
   "metadata": {},
   "outputs": [
    {
     "data": {
      "text/plain": [
       "1"
      ]
     },
     "execution_count": 41,
     "metadata": {},
     "output_type": "execute_result"
    }
   ],
   "source": [
    "x = torch.tensor([3, 5, 7, 5, 9])\n",
    "torch.nonzero(x==5,as_tuple=False)[0].item()"
   ]
  },
  {
   "cell_type": "markdown",
   "metadata": {},
   "source": [
    "## 문제 21: 텐서의 요소별 지수 함수 계산\n",
    "다음 텐서 x의 각 요소에 지수 함수를 적용하고, 결과 텐서의 각 요소의 합계를 계산하는 코드를 작성하세요:\n",
    "\n",
    "```python\n",
    "x = torch.tensor([0.0, 1.0, 2.0])\n",
    "```"
   ]
  },
  {
   "cell_type": "code",
   "execution_count": 42,
   "metadata": {},
   "outputs": [
    {
     "data": {
      "text/plain": [
       "tensor(11.1073)"
      ]
     },
     "execution_count": 42,
     "metadata": {},
     "output_type": "execute_result"
    }
   ],
   "source": [
    "x = torch.tensor([0.0, 1.0, 2.0])\n",
    "y = torch.exp(x)\n",
    "y.sum()"
   ]
  },
  {
   "cell_type": "markdown",
   "metadata": {},
   "source": [
    "## 문제 22: 텐서의 표준화\n",
    "다음 텐서 x의 각 요소를 표준화하여 평균이 0, 표준편차가 1이 되도록 변환하는 코드를 작성하세요:\n",
    "\n",
    "```python\n",
    "x = torch.tensor([1.0, 2.0, 3.0, 4.0, 5.0])\n",
    "```"
   ]
  },
  {
   "cell_type": "code",
   "execution_count": 45,
   "metadata": {},
   "outputs": [
    {
     "data": {
      "text/plain": [
       "(tensor(0.), tensor(1.))"
      ]
     },
     "execution_count": 45,
     "metadata": {},
     "output_type": "execute_result"
    }
   ],
   "source": [
    "y = x - x.mean()\n",
    "y = y / x.std()\n",
    "y.mean(), y.std()"
   ]
  },
  {
   "cell_type": "markdown",
   "metadata": {},
   "source": [
    "## 문제 23: 텐서의 차원 추가 및 전치\n",
    "다음 텐서 x에 차원을 추가하여 (3, 1) 형식으로 만든 후, 전치하여 (1, 3) 형식의 텐서로 변환하는 코드를 작성하세요:\n",
    "\n",
    "```python\n",
    "x = torch.tensor([1, 2, 3])\n",
    "```"
   ]
  },
  {
   "cell_type": "code",
   "execution_count": 49,
   "metadata": {},
   "outputs": [
    {
     "data": {
      "text/plain": [
       "torch.Size([1, 3])"
      ]
     },
     "execution_count": 49,
     "metadata": {},
     "output_type": "execute_result"
    }
   ],
   "source": [
    "x = torch.tensor([1, 2, 3])\n",
    "y = x.view(3,1)\n",
    "z = y.T\n",
    "z.shape"
   ]
  },
  {
   "cell_type": "code",
   "execution_count": null,
   "metadata": {},
   "outputs": [],
   "source": []
  }
 ],
 "metadata": {
  "kernelspec": {
   "display_name": "torchlab-Q0s85bUX-py3.10",
   "language": "python",
   "name": "python3"
  },
  "language_info": {
   "codemirror_mode": {
    "name": "ipython",
    "version": 3
   },
   "file_extension": ".py",
   "mimetype": "text/x-python",
   "name": "python",
   "nbconvert_exporter": "python",
   "pygments_lexer": "ipython3",
   "version": "3.10.12"
  }
 },
 "nbformat": 4,
 "nbformat_minor": 2
}
