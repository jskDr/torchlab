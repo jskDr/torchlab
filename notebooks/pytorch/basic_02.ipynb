{
 "cells": [
  {
   "cell_type": "code",
   "execution_count": 1,
   "metadata": {},
   "outputs": [],
   "source": [
    "import torch\n",
    "from torch import nn"
   ]
  },
  {
   "cell_type": "code",
   "execution_count": 8,
   "metadata": {},
   "outputs": [
    {
     "name": "stdout",
     "output_type": "stream",
     "text": [
      "Parameter containing:\n",
      "tensor([[ 0.3189,  0.3077, -0.5641]], requires_grad=True) Parameter containing:\n",
      "tensor([-0.1718], requires_grad=True)\n",
      "tensor([[-0.3179],\n",
      "        [-0.0925],\n",
      "        [-0.1055],\n",
      "        [-0.4862],\n",
      "        [ 0.1512]], grad_fn=<AddmmBackward0>)\n"
     ]
    }
   ],
   "source": [
    "model = nn.Linear(3, 1)\n",
    "print(model.weight, model.bias)\n",
    "X = torch.rand(5,3)\n",
    "Y = model(X)\n",
    "print(Y)"
   ]
  },
  {
   "cell_type": "code",
   "execution_count": 15,
   "metadata": {},
   "outputs": [
    {
     "name": "stdout",
     "output_type": "stream",
     "text": [
      "Parameter containing:\n",
      "tensor([[0.4109, 0.2780, 0.1353]], requires_grad=True) Parameter containing:\n",
      "tensor([0.2173], requires_grad=True)\n",
      "tensor([[0.8456],\n",
      "        [0.4148],\n",
      "        [0.8919],\n",
      "        [0.6298],\n",
      "        [0.5104]], grad_fn=<AddmmBackward0>)\n"
     ]
    }
   ],
   "source": [
    "class Model(nn.Module):\n",
    "    def __init__(self):\n",
    "        super().__init__()\n",
    "        self.linear = nn.Linear(3,1)\n",
    "    def forward(self, x):\n",
    "        return self.linear(x)\n",
    "    \n",
    "model = Model()\n",
    "print(model.linear.weight, model.linear.bias)\n",
    "X = torch.rand(5, 3)\n",
    "Y = model(X)\n",
    "print(Y)"
   ]
  },
  {
   "cell_type": "code",
   "execution_count": 20,
   "metadata": {},
   "outputs": [
    {
     "name": "stdout",
     "output_type": "stream",
     "text": [
      "Parameter containing:\n",
      "tensor([[-0.3771,  0.4643, -0.2218, -0.1753],\n",
      "        [ 0.3526, -0.0825, -0.3119, -0.2398],\n",
      "        [-0.4157,  0.3100, -0.2228,  0.2332],\n",
      "        [ 0.4869, -0.4060,  0.4978, -0.4744],\n",
      "        [-0.4609,  0.0035, -0.2563, -0.2514],\n",
      "        [ 0.4718, -0.3964,  0.2682, -0.3950],\n",
      "        [ 0.1044, -0.1624,  0.2322,  0.2918],\n",
      "        [ 0.1110, -0.2727,  0.1052, -0.2372]], requires_grad=True) Parameter containing:\n",
      "tensor([-0.2342,  0.3218, -0.2754, -0.4829, -0.4038,  0.2282,  0.2746,  0.2776],\n",
      "       requires_grad=True)\n",
      "Parameter containing:\n",
      "tensor([[-0.2566, -0.3051, -0.0331, -0.2996, -0.1406, -0.2549, -0.2782, -0.2740],\n",
      "        [-0.1776,  0.0006,  0.0683,  0.2985, -0.3229,  0.1521,  0.2474,  0.0649]],\n",
      "       requires_grad=True) Parameter containing:\n",
      "tensor([ 0.2273, -0.0848], requires_grad=True)\n",
      "tensor([[-0.1135,  0.1287],\n",
      "        [-0.1420,  0.1709],\n",
      "        [-0.1949,  0.1243],\n",
      "        [ 0.0576,  0.0666],\n",
      "        [-0.0613,  0.0806],\n",
      "        [-0.0263,  0.0771]], grad_fn=<AddmmBackward0>)\n"
     ]
    }
   ],
   "source": [
    "class Model(nn.Module):\n",
    "    def __init__(self):\n",
    "        super().__init__()\n",
    "        self.l1 = nn.Linear(4, 8)\n",
    "        self.relu = nn.ReLU()\n",
    "        self.l2 = nn.Linear(8, 2)\n",
    "    def forward(self, x):\n",
    "        x = self.l1(x)\n",
    "        x = self.relu(x)\n",
    "        x = self.l2(x)\n",
    "        return x\n",
    "model = Model()\n",
    "print(model.l1.weight, model.l1.bias)\n",
    "print(model.l2.weight, model.l2.bias)\n",
    "\n",
    "X = torch.rand(6,4)\n",
    "Y = model(X)\n",
    "print(Y)"
   ]
  },
  {
   "cell_type": "code",
   "execution_count": 22,
   "metadata": {},
   "outputs": [
    {
     "data": {
      "text/plain": [
       "(tensor([[-0.5854, -0.7421, -0.3936]]), tensor([-1.1263]))"
      ]
     },
     "execution_count": 22,
     "metadata": {},
     "output_type": "execute_result"
    }
   ],
   "source": [
    "class Model(nn.Module):\n",
    "    def __init__(self):\n",
    "        super().__init__()\n",
    "        self.linear = nn.Linear(3, 1)\n",
    "    def forward(self, x):\n",
    "        return self.linear(x)\n",
    "model = Model()\n",
    "X = torch.rand(4,3, requires_grad=True)\n",
    "f = lambda x: x.mean()\n",
    "yd = f(X)\n",
    "\n",
    "y = model(X)\n",
    "mse = ((yd - y)**2).mean()\n",
    "mse.backward()\n",
    "model.linear.weight.grad, model.linear.bias.grad \n"
   ]
  },
  {
   "cell_type": "code",
   "execution_count": 23,
   "metadata": {},
   "outputs": [
    {
     "name": "stderr",
     "output_type": "stream",
     "text": [
      "/root/.cache/pypoetry/virtualenvs/torchlab-MpxGgwUk-py3.10/lib/python3.10/site-packages/torch/nn/modules/loss.py:538: UserWarning: Using a target size (torch.Size([4, 1])) that is different to the input size (torch.Size([])). This will likely lead to incorrect results due to broadcasting. Please ensure they have the same size.\n",
      "  return F.mse_loss(input, target, reduction=self.reduction)\n"
     ]
    },
    {
     "data": {
      "text/plain": [
       "(tensor([[-0.8409, -0.5466, -0.9501]]), tensor([-1.6458]))"
      ]
     },
     "execution_count": 23,
     "metadata": {},
     "output_type": "execute_result"
    }
   ],
   "source": [
    "loss_f = nn.MSELoss()\n",
    "\n",
    "class Model(nn.Module):\n",
    "    def __init__(self):\n",
    "        super().__init__()\n",
    "        self.linear = nn.Linear(3, 1)\n",
    "    def forward(self, x):\n",
    "        return self.linear(x)\n",
    "model = Model()\n",
    "X = torch.rand(4,3, requires_grad=True)\n",
    "f = lambda x: x.mean()\n",
    "yd = f(X)\n",
    "\n",
    "y = model(X)\n",
    "loss = loss_f(yd, y)\n",
    "loss.backward()\n",
    "model.linear.weight.grad, model.linear.bias.grad "
   ]
  },
  {
   "cell_type": "code",
   "execution_count": null,
   "metadata": {},
   "outputs": [],
   "source": []
  }
 ],
 "metadata": {
  "kernelspec": {
   "display_name": "torchlab-BHErgrVv-py3.10",
   "language": "python",
   "name": "python3"
  },
  "language_info": {
   "codemirror_mode": {
    "name": "ipython",
    "version": 3
   },
   "file_extension": ".py",
   "mimetype": "text/x-python",
   "name": "python",
   "nbconvert_exporter": "python",
   "pygments_lexer": "ipython3",
   "version": "3.10.12"
  }
 },
 "nbformat": 4,
 "nbformat_minor": 2
}
