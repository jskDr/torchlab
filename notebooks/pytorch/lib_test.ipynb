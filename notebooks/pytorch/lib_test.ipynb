{
 "cells": [
  {
   "cell_type": "code",
   "execution_count": 1,
   "metadata": {},
   "outputs": [],
   "source": [
    "from lib import apply_markdown_format as amd"
   ]
  },
  {
   "cell_type": "code",
   "execution_count": 5,
   "metadata": {},
   "outputs": [
    {
     "name": "stdout",
     "output_type": "stream",
     "text": [
      "## 문제 23: 텐서의 차원 추가 및 전치\n",
      "다음 텐서 x에 차원을 추가하여 (3, 1) 형식으로 만든 후, 전치하여 (1, 3) 형식의 텐서로 변환하는 코드를 작성하세요:\n",
      "\n",
      "```python\n",
      "x = torch.tensor([1, 2, 3])\n",
      "```\n"
     ]
    }
   ],
   "source": [
    "# Original string\n",
    "original_text = \"\"\"문제 23: 텐서의 차원 추가 및 전치\n",
    "다음 텐서 x에 차원을 추가하여 (3, 1) 형식으로 만든 후, 전치하여 (1, 3) 형식의 텐서로 변환하는 코드를 작성하세요:\n",
    "\n",
    "\n",
    "python\n",
    "\n",
    "Copy code\n",
    "\n",
    "\n",
    "x = torch.tensor([1, 2, 3])\"\"\"\n",
    "\n",
    "# Apply Markdown format\n",
    "print(amd(original_text))"
   ]
  },
  {
   "cell_type": "code",
   "execution_count": null,
   "metadata": {},
   "outputs": [],
   "source": []
  }
 ],
 "metadata": {
  "kernelspec": {
   "display_name": "torchlab-Q0s85bUX-py3.10",
   "language": "python",
   "name": "python3"
  },
  "language_info": {
   "codemirror_mode": {
    "name": "ipython",
    "version": 3
   },
   "file_extension": ".py",
   "mimetype": "text/x-python",
   "name": "python",
   "nbconvert_exporter": "python",
   "pygments_lexer": "ipython3",
   "version": "3.10.12"
  }
 },
 "nbformat": 4,
 "nbformat_minor": 2
}
