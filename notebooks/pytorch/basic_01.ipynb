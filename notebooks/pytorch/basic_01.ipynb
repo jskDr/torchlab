{
 "cells": [
  {
   "cell_type": "code",
   "execution_count": 1,
   "metadata": {},
   "outputs": [],
   "source": [
    "import torch"
   ]
  },
  {
   "cell_type": "markdown",
   "metadata": {},
   "source": [
    "## 문제 1"
   ]
  },
  {
   "cell_type": "code",
   "execution_count": 2,
   "metadata": {},
   "outputs": [
    {
     "name": "stdout",
     "output_type": "stream",
     "text": [
      "tensor([[0.4047, 0.9696, 0.9752],\n",
      "        [0.9682, 0.5078, 0.6862],\n",
      "        [0.2718, 0.2523, 0.9407]]) tensor([[0.8094, 1.9391, 1.9504],\n",
      "        [1.9364, 1.0156, 1.3725],\n",
      "        [0.5436, 0.5046, 1.8814]]) tensor(11.9529)\n"
     ]
    }
   ],
   "source": [
    "a = torch.rand(3,3)\n",
    "b = a * 2\n",
    "c = b.sum()\n",
    "print(a, b, c) "
   ]
  },
  {
   "cell_type": "markdown",
   "metadata": {},
   "source": [
    "## 문제 2"
   ]
  },
  {
   "cell_type": "code",
   "execution_count": 3,
   "metadata": {},
   "outputs": [
    {
     "data": {
      "text/plain": [
       "tensor(20, device='cuda:0', dtype=torch.int32)"
      ]
     },
     "execution_count": 3,
     "metadata": {},
     "output_type": "execute_result"
    }
   ],
   "source": [
    "device = \"cuda\" if torch.cuda.is_available() else \"cpu\"\n",
    "a = torch.arange(0,16, dtype=torch.int).view(4,4)\n",
    "b = a.to(device)\n",
    "b = b + 5\n",
    "b.max()"
   ]
  },
  {
   "cell_type": "code",
   "execution_count": 4,
   "metadata": {},
   "outputs": [
    {
     "data": {
      "text/plain": [
       "tensor([[ 5,  6,  7,  8],\n",
       "        [ 9, 10, 11, 12],\n",
       "        [13, 14, 15, 16],\n",
       "        [17, 18, 19, 20]], device='cuda:0', dtype=torch.int32)"
      ]
     },
     "execution_count": 4,
     "metadata": {},
     "output_type": "execute_result"
    }
   ],
   "source": [
    "b"
   ]
  },
  {
   "cell_type": "markdown",
   "metadata": {},
   "source": [
    "## 문제 3"
   ]
  },
  {
   "cell_type": "code",
   "execution_count": 5,
   "metadata": {},
   "outputs": [
    {
     "data": {
      "text/plain": [
       "tensor([1.3227, 0.5566, 0.8008, 0.7317, 0.8005])"
      ]
     },
     "execution_count": 5,
     "metadata": {},
     "output_type": "execute_result"
    }
   ],
   "source": [
    "a = torch.eye(5)\n",
    "b = a + torch.rand(5,5)\n",
    "c = b**2\n",
    "d = c.mean(dim=1)\n",
    "d"
   ]
  },
  {
   "cell_type": "markdown",
   "metadata": {},
   "source": [
    "## 문제 4"
   ]
  },
  {
   "cell_type": "code",
   "execution_count": 6,
   "metadata": {},
   "outputs": [
    {
     "name": "stdout",
     "output_type": "stream",
     "text": [
      "tensor([[8., 8.],\n",
      "        [8., 8.]])\n"
     ]
    }
   ],
   "source": [
    "X = torch.ones(2,2, requires_grad=True)\n",
    "f = lambda x: 3*x**2 + 2*x + 1\n",
    "y = f(X)\n",
    "s = y.sum()\n",
    "s.backward()\n",
    "print(X.grad)"
   ]
  },
  {
   "cell_type": "markdown",
   "metadata": {},
   "source": [
    "## 문제 5"
   ]
  },
  {
   "cell_type": "code",
   "execution_count": 30,
   "metadata": {},
   "outputs": [
    {
     "data": {
      "text/plain": [
       "tensor([[0.5089, 0.2950, 0.4574],\n",
       "        [0.4424, 0.3259, 0.3054],\n",
       "        [0.2313, 0.3326, 0.4565]])"
      ]
     },
     "execution_count": 30,
     "metadata": {},
     "output_type": "execute_result"
    }
   ],
   "source": [
    "X = torch.rand(3,3, requires_grad=True)\n",
    "f = lambda x: x**3 - 4*x**2 + 6*x\n",
    "Y = f(X)\n",
    "y = Y.mean()\n",
    "y.backward()\n",
    "X.grad"
   ]
  },
  {
   "cell_type": "markdown",
   "metadata": {},
   "source": [
    "## 문제 6"
   ]
  },
  {
   "cell_type": "code",
   "execution_count": 32,
   "metadata": {},
   "outputs": [
    {
     "data": {
      "text/plain": [
       "tensor([[-0.5982, -0.7537,  0.4049,  0.9593],\n",
       "        [ 0.4989,  0.9991,  0.9586,  0.9990],\n",
       "        [-0.1309,  0.6333,  0.0758, -0.6858],\n",
       "        [ 0.9892, -0.2060,  0.9986, -0.9479]])"
      ]
     },
     "execution_count": 32,
     "metadata": {},
     "output_type": "execute_result"
    }
   ],
   "source": [
    "X = torch.rand(4,4,requires_grad=True)\n",
    "f = lambda x: torch.sin(x) + torch.cos(x**2)\n",
    "Y = f(X)\n",
    "y = Y.sum()\n",
    "y.backward()\n",
    "X.grad\n"
   ]
  },
  {
   "cell_type": "code",
   "execution_count": null,
   "metadata": {},
   "outputs": [],
   "source": []
  }
 ],
 "metadata": {
  "kernelspec": {
   "display_name": "Python 3 (ipykernel)",
   "language": "python",
   "name": "python3"
  },
  "language_info": {
   "codemirror_mode": {
    "name": "ipython",
    "version": 3
   },
   "file_extension": ".py",
   "mimetype": "text/x-python",
   "name": "python",
   "nbconvert_exporter": "python",
   "pygments_lexer": "ipython3",
   "version": "3.10.12"
  }
 },
 "nbformat": 4,
 "nbformat_minor": 4
}
