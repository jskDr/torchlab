{
 "cells": [
  {
   "cell_type": "code",
   "execution_count": 1,
   "metadata": {},
   "outputs": [],
   "source": [
    "import torch\n",
    "from torch import nn, optim\n",
    "from torch.nn import functional as F\n",
    "from torch.utils.data import DataLoader\n",
    "from torchvision import datasets, transforms"
   ]
  },
  {
   "cell_type": "code",
   "execution_count": 2,
   "metadata": {},
   "outputs": [
    {
     "name": "stdout",
     "output_type": "stream",
     "text": [
      "Files already downloaded and verified\n",
      "Files already downloaded and verified\n"
     ]
    }
   ],
   "source": [
    "transform = transforms.Compose([\n",
    "    transforms.ToTensor(),\n",
    "    transforms.Normalize((0.5,0.5,0.5), (0.5,0.5,0.5))\n",
    "])\n",
    "train_data = datasets.CIFAR10(root='data',train=True, download=True, transform=transform)\n",
    "test_data = datasets.CIFAR10(root='data', train=False, download=True, transform=transform)\n",
    "batch_size = 64\n",
    "train_loader = DataLoader(train_data, batch_size=batch_size, shuffle=True)\n",
    "test_loader = DataLoader(test_data, batch_size=batch_size, shuffle=False)"
   ]
  },
  {
   "cell_type": "code",
   "execution_count": 3,
   "metadata": {},
   "outputs": [],
   "source": [
    "class Model(nn.Module):\n",
    "    def __init__(self):\n",
    "        super().__init__()\n",
    "        self.net = nn.Sequential(\n",
    "            nn.Conv2d(3,16,3,padding=1),\n",
    "            nn.ReLU(),\n",
    "            nn.MaxPool2d(2,2),\n",
    "            nn.Conv2d(16,32,3,padding=1),\n",
    "            nn.ReLU(),\n",
    "            nn.MaxPool2d(2,2)\n",
    "        )\n",
    "        self.fc = nn.Linear(32*8*8, 10)\n",
    "        \n",
    "    def forward(self, x):\n",
    "        x = self.net(x)\n",
    "        x = x.view(-1, 32*8*8) # x.view(x.size(0),-1)\n",
    "        return self.fc(x)"
   ]
  },
  {
   "cell_type": "code",
   "execution_count": 10,
   "metadata": {},
   "outputs": [
    {
     "name": "stdout",
     "output_type": "stream",
     "text": [
      "cuda\n",
      "Epoch 0\n"
     ]
    },
    {
     "name": "stdout",
     "output_type": "stream",
     "text": [
      "Batch Index 0, Train Loss: 2.31e+00, Train Accuracy: 0.05\n",
      "Batch Index 100, Train Loss: 1.51e+00, Train Accuracy: 0.39\n",
      "Batch Index 200, Train Loss: 1.59e+00, Train Accuracy: 0.47\n",
      "Batch Index 300, Train Loss: 1.32e+00, Train Accuracy: 0.53\n",
      "Batch Index 400, Train Loss: 1.35e+00, Train Accuracy: 0.48\n",
      "Batch Index 500, Train Loss: 1.32e+00, Train Accuracy: 0.48\n",
      "Batch Index 600, Train Loss: 1.31e+00, Train Accuracy: 0.58\n",
      "Batch Index 700, Train Loss: 1.24e+00, Train Accuracy: 0.55\n",
      "Test Loss: 1.25e+00, Test Accuracy: 0.55\n"
     ]
    }
   ],
   "source": [
    "device = \"cuda\" if torch.cuda.is_available() else \"cpu\"\n",
    "print(device)\n",
    "model = Model().to(device)\n",
    "optimizer = optim.Adam(model.parameters(), lr=0.001)\n",
    "loss_f = nn.CrossEntropyLoss()\n",
    "\n",
    "epochs = 10\n",
    "for epoch in range(epochs):\n",
    "    print(f\"Epoch {epoch}\")\n",
    "    for batch_idx, (X, Yd) in enumerate(train_loader):\n",
    "        optimizer.zero_grad()\n",
    "        X, Yd = X.to(device), Yd.to(device)\n",
    "        Y = model(X)\n",
    "        loss = loss_f(Y, Yd)\n",
    "        loss.backward()\n",
    "        optimizer.step()\n",
    "        if batch_idx % 100 == 0:\n",
    "            Y = torch.argmax(Y, dim=1)\n",
    "            correct = (Yd - Y == 0).sum()\n",
    "            acc = correct / Yd.size(0)\n",
    "            print(f\"Batch Index {batch_idx}, Train Loss: {loss.item():.2e}, Train Accuracy: {acc:.2f}\")\n",
    "    with torch.no_grad():\n",
    "        loss, correct, tot = 0, 0, 0\n",
    "        for X, Yd in test_loader:\n",
    "            X, Yd = X.to(device), Yd.to(device)\n",
    "            Y = model(X)\n",
    "            # print(X.shape, Yd.shape, Y.shape)\n",
    "            loss += loss_f(Y, Yd)\n",
    "            Y = torch.argmax(Y, dim=1)\n",
    "            correct += (Yd - Y == 0).sum()\n",
    "            tot += Yd.size(0)\n",
    "        loss = loss.item() / len(test_loader)\n",
    "        acc = correct / tot\n",
    "        print(f\"Test Loss: {loss:.2e}, Test Accuracy: {acc:.2f}\")\n",
    "    break\n",
    "\n",
    "torch.save(model.state_dict(), 'data/best_mode.pth')\n",
    "            "
   ]
  },
  {
   "cell_type": "code",
   "execution_count": null,
   "metadata": {},
   "outputs": [],
   "source": []
  }
 ],
 "metadata": {
  "kernelspec": {
   "display_name": "torchlab-vaH1aePS-py3.10",
   "language": "python",
   "name": "python3"
  },
  "language_info": {
   "codemirror_mode": {
    "name": "ipython",
    "version": 3
   },
   "file_extension": ".py",
   "mimetype": "text/x-python",
   "name": "python",
   "nbconvert_exporter": "python",
   "pygments_lexer": "ipython3",
   "version": "3.10.12"
  }
 },
 "nbformat": 4,
 "nbformat_minor": 2
}
